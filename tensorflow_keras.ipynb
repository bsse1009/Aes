{
  "nbformat": 4,
  "nbformat_minor": 0,
  "metadata": {
    "colab": {
      "name": "tensorflow_keras.ipynb",
      "provenance": [],
      "collapsed_sections": [],
      "authorship_tag": "ABX9TyPOuq6EEsMHslrLcv+WzkzN",
      "include_colab_link": true
    },
    "kernelspec": {
      "name": "python3",
      "display_name": "Python 3"
    },
    "accelerator": "GPU"
  },
  "cells": [
    {
      "cell_type": "markdown",
      "metadata": {
        "id": "view-in-github",
        "colab_type": "text"
      },
      "source": [
        "<a href=\"https://colab.research.google.com/github/bsse1009/Aes/blob/master/tensorflow_keras.ipynb\" target=\"_parent\"><img src=\"https://colab.research.google.com/assets/colab-badge.svg\" alt=\"Open In Colab\"/></a>"
      ]
    },
    {
      "cell_type": "code",
      "metadata": {
        "id": "yu8WNZTltrOg"
      },
      "source": [
        "import tensorflow as tf\r\n",
        "from tensorflow import keras\r\n",
        "from tensorflow.keras.models import Sequential\r\n",
        "from tensorflow.keras.layers import Activation, Dense\r\n",
        "from tensorflow.keras.optimizers import Adam\r\n",
        "from tensorflow.keras.metrics import categorical_crossentropy"
      ],
      "execution_count": null,
      "outputs": []
    },
    {
      "cell_type": "code",
      "metadata": {
        "colab": {
          "base_uri": "https://localhost:8080/"
        },
        "id": "B0Noqd-ZutRw",
        "outputId": "54c43e57-0419-43a9-b911-efafce444511"
      },
      "source": [
        "import tensorflow as tf\r\n",
        "print(\"Num GPUs Available: \", len(tf.config.experimental.list_physical_devices('GPU')))"
      ],
      "execution_count": null,
      "outputs": [
        {
          "output_type": "stream",
          "text": [
            "Num GPUs Available:  1\n"
          ],
          "name": "stdout"
        }
      ]
    },
    {
      "cell_type": "code",
      "metadata": {
        "id": "ozjDw708ZITS"
      },
      "source": [
        "import numpy as np\r\n",
        "from random import randint\r\n",
        "from sklearn.utils import shuffle\r\n",
        "from sklearn.preprocessing import MinMaxScaler"
      ],
      "execution_count": null,
      "outputs": []
    },
    {
      "cell_type": "code",
      "metadata": {
        "id": "cvmdnYkpaafh"
      },
      "source": [
        "train_labels = []\r\n",
        "train_samples = []\r\n",
        "for i in range(50):\r\n",
        "    # The ~5% of younger individuals who did experience side effects\r\n",
        "    random_younger = randint(13,64)\r\n",
        "    train_samples.append(random_younger)\r\n",
        "    train_labels.append(1)\r\n",
        "\r\n",
        "    # The ~5% of older individuals who did not experience side effects\r\n",
        "    random_older = randint(65,100)\r\n",
        "    train_samples.append(random_older)\r\n",
        "    train_labels.append(0)\r\n",
        "\r\n",
        "for i in range(1000):\r\n",
        "    # The ~95% of younger individuals who did not experience side effects\r\n",
        "    random_younger = randint(13,64)\r\n",
        "    train_samples.append(random_younger)\r\n",
        "    train_labels.append(0)\r\n",
        "\r\n",
        "    # The ~95% of older individuals who did experience side effects\r\n",
        "    random_older = randint(65,100)\r\n",
        "    train_samples.append(random_older)\r\n",
        "    train_labels.append(1)"
      ],
      "execution_count": null,
      "outputs": []
    },
    {
      "cell_type": "code",
      "metadata": {
        "id": "PJw47jy1a8fJ"
      },
      "source": [
        "train_labels = np.array(train_labels)\r\n",
        "train_samples = np.array(train_samples)\r\n",
        "train_labels, train_samples = shuffle(train_labels, train_samples)"
      ],
      "execution_count": null,
      "outputs": []
    },
    {
      "cell_type": "code",
      "metadata": {
        "colab": {
          "base_uri": "https://localhost:8080/"
        },
        "id": "CCT2gtWQbZ8H",
        "outputId": "04d68692-a23e-4496-cad5-c7b3f1f680cd"
      },
      "source": [
        "scaler = MinMaxScaler(feature_range=(0,1))\r\n",
        "scaled_train_samples = scaler.fit_transform(train_samples.reshape(-1,1))\r\n",
        "print(scaled_train_samples)\r\n",
        "print(train_labels)"
      ],
      "execution_count": null,
      "outputs": [
        {
          "output_type": "stream",
          "text": [
            "[[0.47126437]\n",
            " [0.57471264]\n",
            " [0.67816092]\n",
            " ...\n",
            " [0.70114943]\n",
            " [0.6091954 ]\n",
            " [0.74712644]]\n",
            "[0 0 1 ... 1 1 1]\n"
          ],
          "name": "stdout"
        }
      ]
    },
    {
      "cell_type": "code",
      "metadata": {
        "id": "-nYQWJBRclTo"
      },
      "source": [
        "model = Sequential([\r\n",
        "    Dense(units=16, input_shape=(1,), activation='relu'),\r\n",
        "    Dense(units=32, activation='relu'),\r\n",
        "    Dense(units=2, activation='softmax')\r\n",
        "])"
      ],
      "execution_count": null,
      "outputs": []
    },
    {
      "cell_type": "code",
      "metadata": {
        "id": "_GKBZ1uugMR1"
      },
      "source": [
        "model.compile(optimizer=Adam(learning_rate=0.0001), loss='sparse_categorical_crossentropy', metrics=['accuracy'])"
      ],
      "execution_count": null,
      "outputs": []
    },
    {
      "cell_type": "code",
      "metadata": {
        "colab": {
          "base_uri": "https://localhost:8080/"
        },
        "id": "H7E60yLEgPuo",
        "outputId": "69b26729-e2e6-47a4-eb3b-58b59fe8f8ad"
      },
      "source": [
        "model.fit(\r\n",
        "      x=scaled_train_samples\r\n",
        "    , y=train_labels\r\n",
        "    , validation_split=0.1\r\n",
        "    , batch_size=10\r\n",
        "    , epochs=30\r\n",
        "    , verbose=2\r\n",
        ")"
      ],
      "execution_count": null,
      "outputs": [
        {
          "output_type": "stream",
          "text": [
            "Epoch 1/30\n",
            "189/189 - 1s - loss: 0.7127 - accuracy: 0.5063 - val_loss: 0.6949 - val_accuracy: 0.4429\n",
            "Epoch 2/30\n",
            "189/189 - 0s - loss: 0.6754 - accuracy: 0.7434 - val_loss: 0.6538 - val_accuracy: 0.7429\n",
            "Epoch 3/30\n",
            "189/189 - 0s - loss: 0.6440 - accuracy: 0.7317 - val_loss: 0.6186 - val_accuracy: 0.7476\n",
            "Epoch 4/30\n",
            "189/189 - 0s - loss: 0.6117 - accuracy: 0.7688 - val_loss: 0.5834 - val_accuracy: 0.7714\n",
            "Epoch 5/30\n",
            "189/189 - 0s - loss: 0.5784 - accuracy: 0.7921 - val_loss: 0.5499 - val_accuracy: 0.8095\n",
            "Epoch 6/30\n",
            "189/189 - 0s - loss: 0.5452 - accuracy: 0.8307 - val_loss: 0.5165 - val_accuracy: 0.8238\n",
            "Epoch 7/30\n",
            "189/189 - 0s - loss: 0.5146 - accuracy: 0.8455 - val_loss: 0.4888 - val_accuracy: 0.8524\n",
            "Epoch 8/30\n",
            "189/189 - 0s - loss: 0.4876 - accuracy: 0.8614 - val_loss: 0.4630 - val_accuracy: 0.8667\n",
            "Epoch 9/30\n",
            "189/189 - 0s - loss: 0.4618 - accuracy: 0.8810 - val_loss: 0.4379 - val_accuracy: 0.8714\n",
            "Epoch 10/30\n",
            "189/189 - 0s - loss: 0.4376 - accuracy: 0.8910 - val_loss: 0.4144 - val_accuracy: 0.8714\n",
            "Epoch 11/30\n",
            "189/189 - 0s - loss: 0.4154 - accuracy: 0.8974 - val_loss: 0.3936 - val_accuracy: 0.8857\n",
            "Epoch 12/30\n",
            "189/189 - 0s - loss: 0.3954 - accuracy: 0.9058 - val_loss: 0.3747 - val_accuracy: 0.9095\n",
            "Epoch 13/30\n",
            "189/189 - 0s - loss: 0.3776 - accuracy: 0.9095 - val_loss: 0.3578 - val_accuracy: 0.9095\n",
            "Epoch 14/30\n",
            "189/189 - 0s - loss: 0.3621 - accuracy: 0.9116 - val_loss: 0.3432 - val_accuracy: 0.9190\n",
            "Epoch 15/30\n",
            "189/189 - 0s - loss: 0.3487 - accuracy: 0.9185 - val_loss: 0.3307 - val_accuracy: 0.9381\n",
            "Epoch 16/30\n",
            "189/189 - 0s - loss: 0.3373 - accuracy: 0.9217 - val_loss: 0.3197 - val_accuracy: 0.9381\n",
            "Epoch 17/30\n",
            "189/189 - 0s - loss: 0.3273 - accuracy: 0.9222 - val_loss: 0.3106 - val_accuracy: 0.9381\n",
            "Epoch 18/30\n",
            "189/189 - 0s - loss: 0.3189 - accuracy: 0.9286 - val_loss: 0.3023 - val_accuracy: 0.9381\n",
            "Epoch 19/30\n",
            "189/189 - 0s - loss: 0.3115 - accuracy: 0.9265 - val_loss: 0.2953 - val_accuracy: 0.9381\n",
            "Epoch 20/30\n",
            "189/189 - 0s - loss: 0.3052 - accuracy: 0.9270 - val_loss: 0.2891 - val_accuracy: 0.9381\n",
            "Epoch 21/30\n",
            "189/189 - 0s - loss: 0.2999 - accuracy: 0.9286 - val_loss: 0.2840 - val_accuracy: 0.9381\n",
            "Epoch 22/30\n",
            "189/189 - 0s - loss: 0.2953 - accuracy: 0.9312 - val_loss: 0.2793 - val_accuracy: 0.9429\n",
            "Epoch 23/30\n",
            "189/189 - 0s - loss: 0.2913 - accuracy: 0.9317 - val_loss: 0.2756 - val_accuracy: 0.9429\n",
            "Epoch 24/30\n",
            "189/189 - 0s - loss: 0.2877 - accuracy: 0.9317 - val_loss: 0.2719 - val_accuracy: 0.9429\n",
            "Epoch 25/30\n",
            "189/189 - 0s - loss: 0.2846 - accuracy: 0.9339 - val_loss: 0.2688 - val_accuracy: 0.9429\n",
            "Epoch 26/30\n",
            "189/189 - 0s - loss: 0.2820 - accuracy: 0.9323 - val_loss: 0.2660 - val_accuracy: 0.9429\n",
            "Epoch 27/30\n",
            "189/189 - 0s - loss: 0.2797 - accuracy: 0.9328 - val_loss: 0.2633 - val_accuracy: 0.9429\n",
            "Epoch 28/30\n",
            "189/189 - 0s - loss: 0.2776 - accuracy: 0.9323 - val_loss: 0.2610 - val_accuracy: 0.9476\n",
            "Epoch 29/30\n",
            "189/189 - 0s - loss: 0.2757 - accuracy: 0.9339 - val_loss: 0.2588 - val_accuracy: 0.9429\n",
            "Epoch 30/30\n",
            "189/189 - 0s - loss: 0.2739 - accuracy: 0.9328 - val_loss: 0.2569 - val_accuracy: 0.9429\n"
          ],
          "name": "stdout"
        },
        {
          "output_type": "execute_result",
          "data": {
            "text/plain": [
              "<tensorflow.python.keras.callbacks.History at 0x7f580a3fc518>"
            ]
          },
          "metadata": {
            "tags": []
          },
          "execution_count": 32
        }
      ]
    },
    {
      "cell_type": "code",
      "metadata": {
        "id": "I1gsdwSVqsL8"
      },
      "source": [
        "test_labels =  []\r\n",
        "test_samples = []\r\n",
        "\r\n",
        "for i in range(10):\r\n",
        "    # The 5% of younger individuals who did experience side effects\r\n",
        "    random_younger = randint(13,64)\r\n",
        "    test_samples.append(random_younger)\r\n",
        "    test_labels.append(1)\r\n",
        "\r\n",
        "    # The 5% of older individuals who did not experience side effects\r\n",
        "    random_older = randint(65,100)\r\n",
        "    test_samples.append(random_older)\r\n",
        "    test_labels.append(0)\r\n",
        "\r\n",
        "for i in range(200):\r\n",
        "    # The 95% of younger individuals who did not experience side effects\r\n",
        "    random_younger = randint(13,64)\r\n",
        "    test_samples.append(random_younger)\r\n",
        "    test_labels.append(0)\r\n",
        "\r\n",
        "    # The 95% of older individuals who did experience side effects\r\n",
        "    random_older = randint(65,100)\r\n",
        "    test_samples.append(random_older)\r\n",
        "    test_labels.append(1)\r\n",
        "\r\n",
        "test_labels = np.array(test_labels)\r\n",
        "test_samples = np.array(test_samples)\r\n",
        "test_labels, test_samples = shuffle(test_labels, test_samples)\r\n",
        "\r\n",
        "scaled_test_samples = scaler.fit_transform(test_samples.reshape(-1,1))"
      ],
      "execution_count": null,
      "outputs": []
    },
    {
      "cell_type": "code",
      "metadata": {
        "id": "S3FVzl_xqujT"
      },
      "source": [
        "predictions = model.predict(\r\n",
        "      x=scaled_test_samples\r\n",
        "    , batch_size=10\r\n",
        "    , verbose=0\r\n",
        ")  "
      ],
      "execution_count": null,
      "outputs": []
    },
    {
      "cell_type": "code",
      "metadata": {
        "colab": {
          "base_uri": "https://localhost:8080/"
        },
        "id": "lGgcyumTrAtO",
        "outputId": "f73094c0-9760-45e4-f5c4-ba92efe36ad5"
      },
      "source": [
        "rounded_predictions = np.argmax(predictions, axis=-1)\r\n",
        "print(rounded_predictions)\r\n",
        "print(test_labels)"
      ],
      "execution_count": null,
      "outputs": [
        {
          "output_type": "stream",
          "text": [
            "[1 0 0 1 0 0 1 0 1 0 0 0 1 0 1 1 1 1 0 1 1 1 0 0 0 0 0 1 0 1 1 0 1 1 0 1 1\n",
            " 0 0 0 1 1 0 0 0 1 1 1 1 0 0 0 1 1 0 0 1 1 1 1 0 0 0 1 0 1 0 0 1 0 1 1 0 1\n",
            " 0 1 1 0 0 1 1 1 0 0 0 0 0 1 0 1 0 1 0 0 1 0 1 1 1 1 0 1 1 0 1 1 1 1 0 0 0\n",
            " 1 0 1 1 1 1 1 0 1 0 1 0 0 1 1 0 0 1 1 0 1 0 1 0 1 1 0 1 0 0 0 1 0 1 0 0 0\n",
            " 0 1 1 1 0 1 1 0 0 1 0 1 1 0 1 1 1 0 0 0 1 0 0 0 1 1 0 0 1 1 1 1 1 0 1 1 0\n",
            " 0 0 0 0 1 1 1 0 0 0 0 0 1 1 1 0 0 1 1 1 0 1 0 0 0 0 1 0 0 1 1 0 1 1 1 0 1\n",
            " 1 1 0 1 1 0 0 0 1 0 1 0 0 1 1 0 1 0 0 1 0 1 0 1 1 1 1 0 1 0 0 0 1 1 1 1 1\n",
            " 0 0 1 0 0 0 0 0 0 1 1 1 1 1 1 1 1 0 1 1 0 1 1 0 0 0 0 1 0 1 0 0 1 0 0 0 1\n",
            " 1 1 1 1 1 0 0 0 0 1 1 1 1 1 1 1 0 0 0 1 0 1 1 1 1 0 1 0 1 0 1 1 1 1 1 0 1\n",
            " 1 1 1 1 0 0 1 0 0 1 1 0 1 1 1 1 0 1 1 1 0 1 1 0 1 1 0 0 1 1 0 1 1 1 1 1 1\n",
            " 1 1 0 0 0 0 0 0 0 1 0 0 0 1 1 0 0 1 0 0 1 0 0 0 0 1 1 1 1 1 0 0 0 1 1 0 0\n",
            " 1 1 1 0 1 0 0 0 0 1 1 0 1]\n",
            "[1 0 0 1 0 0 1 0 1 0 0 0 0 0 0 1 1 0 0 1 1 1 0 0 0 0 1 1 0 1 1 0 1 1 0 1 1\n",
            " 0 0 0 1 1 0 0 0 1 1 1 0 0 0 0 1 1 0 0 1 1 1 1 0 0 0 1 0 1 0 0 1 0 0 1 0 1\n",
            " 0 1 1 0 0 1 1 1 0 0 0 0 0 1 0 1 0 0 0 0 1 0 1 1 0 1 0 1 1 0 1 1 0 1 0 0 0\n",
            " 0 0 1 1 1 1 1 0 1 1 1 0 0 1 1 0 0 1 1 1 1 0 1 0 1 1 0 0 0 0 0 1 0 1 0 0 0\n",
            " 0 1 1 0 0 1 1 0 0 1 0 0 1 0 1 1 1 0 0 0 1 0 0 1 1 1 0 0 1 1 1 1 1 0 1 1 0\n",
            " 0 0 0 0 1 1 1 1 0 0 0 0 1 1 1 0 0 1 1 1 0 0 0 0 0 0 1 0 0 1 1 0 1 1 1 1 1\n",
            " 1 1 0 1 1 0 0 0 1 0 1 0 0 1 1 0 1 0 0 1 0 1 0 1 1 1 1 0 1 0 0 0 1 1 1 0 1\n",
            " 0 0 1 0 0 0 0 0 0 1 1 1 1 1 1 1 1 0 1 1 0 1 0 0 0 0 0 1 0 1 0 0 1 0 0 0 1\n",
            " 0 0 1 1 1 0 0 0 1 1 0 1 1 1 1 1 0 0 0 1 0 1 0 1 1 0 1 0 1 0 1 1 1 1 1 0 0\n",
            " 1 1 1 1 0 0 1 1 0 1 1 0 1 1 1 1 0 1 1 1 0 1 1 0 1 1 0 0 1 1 0 1 1 1 1 1 1\n",
            " 1 1 0 0 0 0 0 0 0 0 0 0 0 1 1 0 0 1 0 0 1 0 0 0 0 1 1 1 1 1 0 0 0 1 1 0 0\n",
            " 1 1 1 0 0 0 0 1 0 1 1 0 1]\n"
          ],
          "name": "stdout"
        }
      ]
    },
    {
      "cell_type": "code",
      "metadata": {
        "id": "4OC68i03x8y6"
      },
      "source": [
        "%matplotlib inline\r\n",
        "from sklearn.metrics import confusion_matrix\r\n",
        "import itertools\r\n",
        "import matplotlib.pyplot as plt"
      ],
      "execution_count": null,
      "outputs": []
    },
    {
      "cell_type": "code",
      "metadata": {
        "id": "dDjNuvktyQCw"
      },
      "source": [
        "cm = confusion_matrix(y_true=test_labels, y_pred=rounded_predictions)"
      ],
      "execution_count": null,
      "outputs": []
    },
    {
      "cell_type": "code",
      "metadata": {
        "id": "iMYlFo9LyXbh"
      },
      "source": [
        " def plot_confusion_matrix(cm, classes,\r\n",
        "                        normalize=False,\r\n",
        "                        title='Confusion matrix',\r\n",
        "                        cmap=plt.cm.Blues):   \r\n",
        "    plt.imshow(cm, interpolation='nearest', cmap=cmap)\r\n",
        "    plt.title(title)\r\n",
        "    plt.colorbar()\r\n",
        "    tick_marks = np.arange(len(classes))\r\n",
        "    plt.xticks(tick_marks, classes, rotation=45)\r\n",
        "    plt.yticks(tick_marks, classes)\r\n",
        "\r\n",
        "    if normalize:\r\n",
        "        cm = cm.astype('float') / cm.sum(axis=1)[:, np.newaxis]\r\n",
        "        print(\"Normalized confusion matrix\")\r\n",
        "    else:\r\n",
        "        print('Confusion matrix, without normalization')\r\n",
        "\r\n",
        "    print(cm)\r\n",
        "\r\n",
        "    thresh = cm.max() / 2.\r\n",
        "    for i, j in itertools.product(range(cm.shape[0]), range(cm.shape[1])):\r\n",
        "        plt.text(j, i, cm[i, j],\r\n",
        "            horizontalalignment=\"center\",\r\n",
        "            color=\"white\" if cm[i, j] > thresh else \"black\")\r\n",
        "\r\n",
        "    plt.tight_layout()\r\n",
        "    plt.ylabel('True label')\r\n",
        "    plt.xlabel('Predicted label')"
      ],
      "execution_count": null,
      "outputs": []
    },
    {
      "cell_type": "code",
      "metadata": {
        "colab": {
          "base_uri": "https://localhost:8080/",
          "height": 364
        },
        "id": "vURJAYr4ymLa",
        "outputId": "eff3a6ce-75ee-4e72-c9d9-f950ee604ff8"
      },
      "source": [
        "cm_plot_labels = ['no_side_effects','had_side_effects']\r\n",
        "plot_confusion_matrix(cm=cm, classes=cm_plot_labels, title='Confusion Matrix')"
      ],
      "execution_count": null,
      "outputs": [
        {
          "output_type": "stream",
          "text": [
            "Confusion matrix, without normalization\n",
            "[[188  22]\n",
            " [  9 201]]\n"
          ],
          "name": "stdout"
        },
        {
          "output_type": "display_data",
          "data": {
            "image/png": "[encoded data removed]",
            "text/plain": [
              "<Figure size 432x288 with 2 Axes>"
            ]
          },
          "metadata": {
            "tags": [],
            "needs_background": "light"
          }
        }
      ]
    },
    {
      "cell_type": "code",
      "metadata": {
        "id": "WQCbGhmw0p1o"
      },
      "source": [
        "model.save('models/medical_trial_model.h5')"
      ],
      "execution_count": null,
      "outputs": []
    },
    {
      "cell_type": "code",
      "metadata": {
        "id": "eTHETEQU0-9S"
      },
      "source": [
        "from tensorflow.keras.models import load_model\r\n",
        "new_model = load_model('models/medical_trial_model.h5')"
      ],
      "execution_count": null,
      "outputs": []
    },
    {
      "cell_type": "code",
      "metadata": {
        "id": "Nk74zfIw1QhN"
      },
      "source": [
        ""
      ],
      "execution_count": null,
      "outputs": []
    }
  ]
}